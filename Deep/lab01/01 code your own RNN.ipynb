{
 "cells": [
  {
   "attachments": {},
   "cell_type": "markdown",
   "id": "780cf295-7141-43e8-b8b8-199b14071e2a",
   "metadata": {},
   "source": [
    "# Coding your own RNN\n",
    "\n",
    "Using this pre-filled notebook, we will code our own RNN for sentence classification. For now, we'll keep using IMDB, as the goal of this part is to understand how an RNN works.\n",
    "\n",
    "Unlike our previous lab, we will also learn the embedding layer. Which means we need to deal with vocabulary by ourselves."
   ]
  },
  {
   "cell_type": "code",
   "execution_count": 1,
   "id": "f26c411e-1cd5-4a1c-9b3d-de16e26db901",
   "metadata": {},
   "outputs": [
    {
     "name": "stderr",
     "output_type": "stream",
     "text": [
      "/Users/francois.soulier/miniconda/envs/SCIA/lib/python3.10/site-packages/requests/__init__.py:109: RequestsDependencyWarning: urllib3 (1.26.14) or chardet (None)/charset_normalizer (3.1.0) doesn't match a supported version!\n",
      "  warnings.warn(\n"
     ]
    }
   ],
   "source": [
    "from functools import partial\n",
    "from typing import Callable, Dict, Generator, List, Tuple\n",
    "\n",
    "from datasets import load_dataset\n",
    "import numpy as np\n",
    "from sklearn.utils import shuffle\n",
    "import torch\n",
    "from torch import nn\n",
    "from torchtext.vocab import vocab, Vocab\n",
    "from torchtext.data.utils import get_tokenizer\n",
    "import matplotlib.pyplot as plt\n",
    "from tqdm.auto import tqdm\n",
    "\n",
    "from utils.rnn import (\n",
    "    load_imdb_datasets,\n",
    "    build_vocabulary,\n",
    "    vectorize_text,\n",
    "    data_generator,\n",
    "    get_device,\n",
    "    evaluate,\n",
    "    train\n",
    ")"
   ]
  },
  {
   "attachments": {},
   "cell_type": "markdown",
   "id": "769f2fa7",
   "metadata": {},
   "source": [
    "The different functions from utils.rnn are in the file [rnn.py](./utils/rnn.py)."
   ]
  },
  {
   "attachments": {},
   "cell_type": "markdown",
   "id": "ec040734-ff61-4c85-982c-acb2a5bd6d8c",
   "metadata": {},
   "source": [
    "## Dataset\n",
    "We load the dataset and split the training set in a stratified train/validation set."
   ]
  },
  {
   "cell_type": "code",
   "execution_count": 2,
   "id": "42b598f9-36b5-43e3-bb25-488b0fb53aac",
   "metadata": {},
   "outputs": [
    {
     "name": "stderr",
     "output_type": "stream",
     "text": [
      "Found cached dataset imdb (/Users/francois.soulier/.cache/huggingface/datasets/imdb/plain_text/1.0.0/d613c88cf8fa3bab83b4ded3713f1f74830d1100e171db75bbddb80b3345c9c0)\n"
     ]
    },
    {
     "data": {
      "application/vnd.jupyter.widget-view+json": {
       "model_id": "0bf089d6805b42ad8affb09d6aad2cdb",
       "version_major": 2,
       "version_minor": 0
      },
      "text/plain": [
       "  0%|          | 0/3 [00:00<?, ?it/s]"
      ]
     },
     "metadata": {},
     "output_type": "display_data"
    },
    {
     "name": "stderr",
     "output_type": "stream",
     "text": [
      "Loading cached split indices for dataset at /Users/francois.soulier/.cache/huggingface/datasets/imdb/plain_text/1.0.0/d613c88cf8fa3bab83b4ded3713f1f74830d1100e171db75bbddb80b3345c9c0/cache-5f37fd0866e4f89f.arrow and /Users/francois.soulier/.cache/huggingface/datasets/imdb/plain_text/1.0.0/d613c88cf8fa3bab83b4ded3713f1f74830d1100e171db75bbddb80b3345c9c0/cache-dd5732a0e6ac784c.arrow\n"
     ]
    },
    {
     "name": "stdout",
     "output_type": "stream",
     "text": [
      "Train set size: 20000\n",
      "Validation set size: 5000\n",
      "Test set size: 25000\n"
     ]
    }
   ],
   "source": [
    "train_df, valid_df, test_df = load_imdb_datasets()\n",
    "\n",
    "print(f\"Train set size: {len(train_df)}\")\n",
    "print(f\"Validation set size: {len(valid_df)}\")\n",
    "print(f\"Test set size: {len(test_df)}\")"
   ]
  },
  {
   "attachments": {},
   "cell_type": "markdown",
   "id": "f309e444-d52d-4f87-8d18-7bb470b7cfcd",
   "metadata": {},
   "source": [
    "## Vocabulary (1 point)\n",
    "\n",
    "**\\[1 point\\]** Build your own vocabulary. The [example provided in torchtext documentation](https://pytorch.org/text/stable/vocab.html#id1) might be of help.\n",
    "* Don't forge to setup the `min_freq` parameter to not include unfrequent noise.\n",
    "* You will need a tokenizer. Reuse the `basic_english` one from the our previous lab.\n",
    "* For an RNN we need two special tokens: `<unk>`, for unknown words, and `<pad>` for padding."
   ]
  },
  {
   "cell_type": "code",
   "execution_count": 3,
   "id": "74998b15",
   "metadata": {},
   "outputs": [],
   "source": [
    "tokenizer = get_tokenizer(\"basic_english\")\n",
    "vocabulary = build_vocabulary(dataset=train_df, tokenizer=tokenizer)"
   ]
  },
  {
   "attachments": {},
   "cell_type": "markdown",
   "id": "89386d66-f758-4d87-b786-9d570eb22f2f",
   "metadata": {},
   "source": [
    "## Vectorize and batch the input (3 points)\n",
    "\n",
    "As seen in class, our model should take one-hot encoded vectors corresponding to the each token vocabulary id. However, computing a vector x matrix multiplication for every input is unnecessarily costly. Multiplying a one-hot vector with a matrix is the equivalent of taking one row of the matrix. In pyTorch, we provide ids for each token which will be used as input to an `nn.Embedding` layer. The id is simply the row in the embedding matrix.\n",
    "\n",
    "**\\[1 point\\]** Fill the `vectorize_text` function returning a 1D torch tensor of `torch.long` for each input text."
   ]
  },
  {
   "cell_type": "code",
   "execution_count": 4,
   "id": "2a4a9058-ad04-43b9-bf5c-680afb44e35c",
   "metadata": {},
   "outputs": [],
   "source": [
    "text_pipeline = partial(vectorize_text, vocabulary=vocabulary, tokenizer=tokenizer)"
   ]
  },
  {
   "attachments": {},
   "cell_type": "markdown",
   "id": "9717208d-2f50-4d16-b170-904beeeb71ad",
   "metadata": {},
   "source": [
    "Check the function is working correctly, especially it should return the right special id for unknown words."
   ]
  },
  {
   "cell_type": "code",
   "execution_count": 5,
   "id": "9727204a-ecff-4e4d-a316-543865d52a31",
   "metadata": {},
   "outputs": [
    {
     "data": {
      "text/plain": [
       "tensor([  39, 4850,   11,  265,  646,    8,   27,   27,   27,    0])"
      ]
     },
     "execution_count": 5,
     "metadata": {},
     "output_type": "execute_result"
    }
   ],
   "source": [
    "text_pipeline(\"Some text I am thinking about... ragafqfa\")"
   ]
  },
  {
   "cell_type": "code",
   "execution_count": 6,
   "id": "97eb948c-cfae-47b1-b8ce-bafa358afe65",
   "metadata": {},
   "outputs": [
    {
     "data": {
      "application/vnd.jupyter.widget-view+json": {
       "model_id": "123237324fda4c6baf978adc2f923ec3",
       "version_major": 2,
       "version_minor": 0
      },
      "text/plain": [
       "  0%|          | 0/20000 [00:00<?, ?it/s]"
      ]
     },
     "metadata": {},
     "output_type": "display_data"
    },
    {
     "data": {
      "application/vnd.jupyter.widget-view+json": {
       "model_id": "0a1de5383d8a4a37aac0f0a3ae43a2a7",
       "version_major": 2,
       "version_minor": 0
      },
      "text/plain": [
       "  0%|          | 0/5000 [00:00<?, ?it/s]"
      ]
     },
     "metadata": {},
     "output_type": "display_data"
    },
    {
     "data": {
      "application/vnd.jupyter.widget-view+json": {
       "model_id": "4e99dc4e31ac4c6193fa5e59182abfa9",
       "version_major": 2,
       "version_minor": 0
      },
      "text/plain": [
       "  0%|          | 0/25000 [00:00<?, ?it/s]"
      ]
     },
     "metadata": {},
     "output_type": "display_data"
    }
   ],
   "source": [
    "X_train = [text_pipeline(text) for text in tqdm(train_df[\"text\"])]\n",
    "y_train = train_df[\"label\"]\n",
    "X_valid = [text_pipeline(text) for text in tqdm(valid_df[\"text\"])]\n",
    "y_valid = valid_df[\"label\"]\n",
    "X_test = [text_pipeline(text) for text in tqdm(test_df[\"text\"])]\n",
    "y_test = test_df[\"label\"]"
   ]
  },
  {
   "attachments": {},
   "cell_type": "markdown",
   "id": "67138763-f848-4dd7-9036-68df352d22a0",
   "metadata": {},
   "source": [
    "To speed up the training process, we turn the inputs into batches, as we did last time. For batches to work, every line must have the same lengths. Last time, it was implicit as only a vector (the average of all embeddings) was provided. This time, every line has the length of a different review.\n",
    "\n",
    "To go around this problem, we use padding. So every line within a batch is padded to the length of its longest element.\n",
    "\n",
    "* **\\[1 point\\]** Fill the data generator function.\n",
    "* **\\[1 point\\]** On which side should you pad and why?"
   ]
  },
  {
   "cell_type": "code",
   "execution_count": 7,
   "id": "c2e10342-4d6b-45c4-8e05-68ef6375b977",
   "metadata": {},
   "outputs": [],
   "source": [
    "pad_token = \"<pad>\"\n",
    "train_gen = lambda: data_generator(X_train, y_train, vocabulary[pad_token])\n",
    "valid_gen = lambda: data_generator(X_valid, y_valid, vocabulary[pad_token])\n",
    "test_gen = lambda: data_generator(X_test, y_test, vocabulary[pad_token])"
   ]
  },
  {
   "cell_type": "code",
   "execution_count": 8,
   "id": "06100560",
   "metadata": {},
   "outputs": [],
   "source": [
    "device = get_device()"
   ]
  },
  {
   "attachments": {},
   "cell_type": "markdown",
   "id": "4489d625-f1ad-49ea-8b54-74463e04877f",
   "metadata": {
    "tags": []
   },
   "source": [
    "## Classifier (3 points)\n",
    "\n",
    "**\\[3 points\\]** Code your own RNN. Fill the `RNN` class correctly. Remember an RNN has 3 matrices and an embedding layer (see course slide 61).\n",
    "* The embedding layer turns a one-hot vectors into dense vectors.\n",
    "* The first matrix (W) connects the embedding to the hidden layer.\n",
    "  * `embedding_size -> hidden_size`\n",
    "* The second matrix (U) connect the previous hidden layer to the current one.\n",
    "  * `hidden_size -> hidden_size`\n",
    "* These to vectors are added and go through an activation function (e.g. $h_t = tanh(Wx_i+Uh_{t-1})$).\n",
    "* The last matrix (V) connects the hidden layer to the hidden layer to the output.\n",
    "  * `hidden_size -> 1`\n",
    "* Donc forget to add an `init_hidden` function which initialize the first hidden layer to 0."
   ]
  },
  {
   "cell_type": "code",
   "execution_count": 9,
   "id": "884b4a73",
   "metadata": {},
   "outputs": [],
   "source": [
    "class RNN(nn.Module):\n",
    "    \"\"\"\n",
    "    Custom RNN model.\n",
    "    \"\"\"\n",
    "    def __init__(\n",
    "        self,\n",
    "        vocabulary_size: int,\n",
    "        embedding_size: int,\n",
    "        hidden_size: int,\n",
    "        output_size: int,\n",
    "    ):\n",
    "        super().__init__()\n",
    "        self.hidden_size = hidden_size\n",
    "        self.embedding = nn.Embedding(vocabulary_size, embedding_size)\n",
    "        self.W = nn.Linear(embedding_size, hidden_size)\n",
    "        self.U = nn.Linear(hidden_size, hidden_size)\n",
    "        self.V = nn.Linear(hidden_size, output_size)\n",
    "        self.tanh = nn.Tanh()\n",
    "        self.softmax = nn.Softmax(dim=1)\n",
    "\n",
    "    def init_hidden(self, batch_size: int) -> torch.Tensor:\n",
    "        \"\"\"\n",
    "        Initialize the hidden state.\n",
    "        Args:\n",
    "            batch_size: the batch size.\n",
    "        Returns:\n",
    "            A tensor of zeros.\n",
    "        \"\"\"\n",
    "        return torch.zeros(batch_size, self.hidden_size)\n",
    "\n",
    "    def forward(self, x: torch.Tensor) -> torch.Tensor:\n",
    "        \"\"\"\n",
    "        Forward pass.\n",
    "        Args:\n",
    "            x (torch.Tensor): the input batched tensor.\n",
    "        Returns:\n",
    "            (torch.Tensor): The output batched tensor.\n",
    "        \"\"\"\n",
    "        x = self.embedding(x)\n",
    "        h = self.init_hidden(x.shape[0]).to(x.device)\n",
    "        for i in range(x.shape[1]):\n",
    "            h = self.tanh(self.W(x[:, i]) + self.U(h))\n",
    "        return self.softmax(self.V(h))"
   ]
  },
  {
   "attachments": {},
   "cell_type": "markdown",
   "id": "4c665df6-ff9a-4b66-80fe-8abe62d895c9",
   "metadata": {},
   "source": [
    "## Training (2 points)\n",
    "\n",
    "Training is a bit different than usual. We will need to sequentially (but in \"batch parallel\") go through an input, keeping track of the hidden layer, and use the last output as prediction.\n",
    "\n",
    "**\\[2 point\\]** Code the training loop.\n",
    "* Note that for each batch, you need to loop through the whole input and use the output of the last token as input to your criterion.\n",
    "* Keep the best model evaluated on the validation set.\n",
    "* Plot the training and validation losses.\n",
    "* Training will take some time (~30 min on a T4 GPU). Make sure your results appear in the notebook."
   ]
  },
  {
   "cell_type": "code",
   "execution_count": 10,
   "id": "46cdc558-249b-4c26-b1e5-fc1c0a78d32d",
   "metadata": {},
   "outputs": [
    {
     "data": {
      "application/vnd.jupyter.widget-view+json": {
       "model_id": "fc73d2d61378444091470656cccac46e",
       "version_major": 2,
       "version_minor": 0
      },
      "text/plain": [
       "  0%|          | 0/5 [00:00<?, ?it/s]"
      ]
     },
     "metadata": {},
     "output_type": "display_data"
    },
    {
     "data": {
      "application/vnd.jupyter.widget-view+json": {
       "model_id": "84beb3fb6ae84b3daa46c0533455c4c6",
       "version_major": 2,
       "version_minor": 0
      },
      "text/plain": [
       "0it [00:00, ?it/s]"
      ]
     },
     "metadata": {},
     "output_type": "display_data"
    },
    {
     "name": "stdout",
     "output_type": "stream",
     "text": [
      "Epoch 1/5 train loss: 0.025 valid loss: 0.026\n"
     ]
    },
    {
     "data": {
      "application/vnd.jupyter.widget-view+json": {
       "model_id": "9b173cc243f24e318059213ccf0495b4",
       "version_major": 2,
       "version_minor": 0
      },
      "text/plain": [
       "0it [00:00, ?it/s]"
      ]
     },
     "metadata": {},
     "output_type": "display_data"
    },
    {
     "name": "stdout",
     "output_type": "stream",
     "text": [
      "Epoch 2/5 train loss: 0.025 valid loss: 0.025\n"
     ]
    },
    {
     "data": {
      "application/vnd.jupyter.widget-view+json": {
       "model_id": "dae22706c31648dfa82ae684f8b879ce",
       "version_major": 2,
       "version_minor": 0
      },
      "text/plain": [
       "0it [00:00, ?it/s]"
      ]
     },
     "metadata": {},
     "output_type": "display_data"
    },
    {
     "name": "stdout",
     "output_type": "stream",
     "text": [
      "Epoch 3/5 train loss: 0.025 valid loss: 0.026\n"
     ]
    },
    {
     "data": {
      "application/vnd.jupyter.widget-view+json": {
       "model_id": "a3fbe9589f274e0f892d3301469d3f95",
       "version_major": 2,
       "version_minor": 0
      },
      "text/plain": [
       "0it [00:00, ?it/s]"
      ]
     },
     "metadata": {},
     "output_type": "display_data"
    },
    {
     "name": "stdout",
     "output_type": "stream",
     "text": [
      "Epoch 4/5 train loss: 0.025 valid loss: 0.026\n"
     ]
    },
    {
     "data": {
      "application/vnd.jupyter.widget-view+json": {
       "model_id": "75bea64eec2d428ab78b152592a1ba41",
       "version_major": 2,
       "version_minor": 0
      },
      "text/plain": [
       "0it [00:00, ?it/s]"
      ]
     },
     "metadata": {},
     "output_type": "display_data"
    },
    {
     "name": "stdout",
     "output_type": "stream",
     "text": [
      "Epoch 5/5 train loss: 0.025 valid loss: 0.026\n"
     ]
    },
    {
     "data": {
      "image/png": "[encoded data removed]",
      "text/plain": [
       "<Figure size 640x480 with 1 Axes>"
      ]
     },
     "metadata": {},
     "output_type": "display_data"
    }
   ],
   "source": [
    "n_embedding = 32\n",
    "n_hidden = 64\n",
    "model = RNN(len(vocabulary.get_itos()), n_embedding, n_hidden, 1).to(device)\n",
    "criterion = nn.BCEWithLogitsLoss()\n",
    "optimizer = torch.optim.RMSprop(model.parameters(), lr=0.001)\n",
    "\n",
    "# For the training, we need to sequentially (but in \"batch parallel\") go through an input, keeping track of the hidden layer, and use the last output as prediction.\n",
    "# For each batch, we need to loop through the whole input and use the output of the last token as input for our criterion.\n",
    "# Keep the best model evaluated on the validation set.adam\n",
    "\n",
    "train_losses, valid_losses = train(\n",
    "    model, X_train, X_valid, criterion, optimizer, train_gen, valid_gen, 5, device\n",
    ")\n",
    "\n",
    "# Plot the train and validation losses.\n",
    "plt.plot(train_losses, label=\"train loss\")\n",
    "plt.plot(valid_losses, label=\"valid loss\")\n",
    "plt.legend()\n",
    "plt.show()"
   ]
  },
  {
   "attachments": {},
   "cell_type": "markdown",
   "id": "137dc500-ece2-4efa-8207-758a5f428c26",
   "metadata": {},
   "source": [
    "## Evaluation (1 point)\n",
    "\n",
    "* **\\[1 point\\]** Compute the accuracy for all 3 splits."
   ]
  },
  {
   "cell_type": "code",
   "execution_count": 11,
   "id": "d5a122cb",
   "metadata": {},
   "outputs": [
    {
     "name": "stdout",
     "output_type": "stream",
     "text": [
      "Accuracy: 0.500\n",
      "Precision: 0.500\n",
      "Recall: 1.000\n",
      "F1-score: 0.667\n"
     ]
    }
   ],
   "source": [
    "# Evaluate the model on the train set.\n",
    "accuracy, precision, recall, f1 = evaluate(model, train_gen, device)"
   ]
  },
  {
   "cell_type": "code",
   "execution_count": 12,
   "id": "f197950f",
   "metadata": {},
   "outputs": [
    {
     "name": "stdout",
     "output_type": "stream",
     "text": [
      "Accuracy: 0.500\n",
      "Precision: 0.500\n",
      "Recall: 1.000\n",
      "F1-score: 0.667\n"
     ]
    }
   ],
   "source": [
    "# Evaluate the model on the validation set.\n",
    "_ = evaluate(model, valid_gen, device)"
   ]
  },
  {
   "cell_type": "code",
   "execution_count": 13,
   "id": "f2338b17",
   "metadata": {},
   "outputs": [
    {
     "name": "stdout",
     "output_type": "stream",
     "text": [
      "Accuracy: 0.500\n",
      "Precision: 0.500\n",
      "Recall: 1.000\n",
      "F1-score: 0.667\n"
     ]
    }
   ],
   "source": [
    "# Evaluate the model on the test set.\n",
    "_ = evaluate(model, test_gen, device)"
   ]
  },
  {
   "attachments": {},
   "cell_type": "markdown",
   "id": "820e111c",
   "metadata": {},
   "source": [
    "Strangely enough, we have an isssue with the accuracy. As we can observe during the training, the loss remains approximately constant. Here, the testing results are also identical for all the datasets. Unfortunately, we could not find the reason for this issue ..."
   ]
  }
 ],
 "metadata": {
  "kernelspec": {
   "display_name": "Python 3 (ipykernel)",
   "language": "python",
   "name": "python3"
  },
  "language_info": {
   "codemirror_mode": {
    "name": "ipython",
    "version": 3
   },
   "file_extension": ".py",
   "mimetype": "text/x-python",
   "name": "python",
   "nbconvert_exporter": "python",
   "pygments_lexer": "ipython3",
   "version": "3.10.4"
  }
 },
 "nbformat": 4,
 "nbformat_minor": 5
}
